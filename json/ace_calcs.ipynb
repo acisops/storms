{
 "cells": [
  {
   "cell_type": "code",
   "execution_count": 1,
   "metadata": {},
   "outputs": [],
   "source": [
    "from astropy.io import ascii\n",
    "from pathlib import Path\n",
    "import matplotlib.pyplot as plt\n",
    "from cxotime import CxoTime\n",
    "import numpy as np\n",
    "from scipy.integrate import cumulative_trapezoid as cumtrapz\n",
    "import json\n",
    "from storms import SolarWind"
   ]
  },
  {
   "cell_type": "code",
   "execution_count": 2,
   "metadata": {},
   "outputs": [],
   "source": [
    "fns = list(Path(\".\").glob(\"*.json\"))"
   ]
  },
  {
   "cell_type": "code",
   "execution_count": 3,
   "metadata": {},
   "outputs": [],
   "source": [
    "plt.rc(\"font\", size=18)\n",
    "plt.rc(\"axes\", linewidth=2)\n",
    "plt.rcParams['xtick.major.width'] = '2'\n",
    "plt.rcParams['xtick.minor.width'] = '2'\n",
    "plt.rcParams['xtick.major.size'] = '6'\n",
    "plt.rcParams['xtick.minor.size'] = '3'\n",
    "plt.rcParams['ytick.major.width'] = '2'\n",
    "plt.rcParams['ytick.minor.width'] = '2'\n",
    "plt.rcParams['ytick.major.size'] = '6'\n",
    "plt.rcParams['ytick.minor.size'] = '3'\n"
   ]
  },
  {
   "cell_type": "code",
   "execution_count": 4,
   "metadata": {},
   "outputs": [
    {
     "name": "stdout",
     "output_type": "stream",
     "text": [
      "2021_301.json\n",
      "2023_113.json\n",
      "2017_250.json\n",
      "2022_087.json\n",
      "2015_173.json\n",
      "2023_058.json\n",
      "2023_074.json\n",
      "2017_254.json\n"
     ]
    }
   ],
   "source": [
    "#fig, ax = plt.subplots(figsize=(10,10))\n",
    "tts = []\n",
    "dds = []\n",
    "tss = []\n",
    "tms = []\n",
    "tds = []\n",
    "triggers = []\n",
    "for fn in fns:\n",
    "    info = json.load(open(fn, \"r\"))\n",
    "    if info[\"shutdown\"] != \"YES\":\n",
    "        continue\n",
    "    print(fn)\n",
    "    te = CxoTime(info[\"oormpen_time\"])\n",
    "    ts = CxoTime(info[\"shutdown_time\"])\n",
    "    td = CxoTime(info[\"oormpds_time\"])\n",
    "    browse = \"2023\" in str(fn)\n",
    "    sw = SolarWind(te, td, no_hrc=True, browse=browse)\n",
    "    max_p3 = np.nanmax(sw[\"p3\"])\n",
    "    idx_max = np.nanargmax(sw[\"p3\"])\n",
    "    tm = sw.times.secs[idx_max]\n",
    "    dd = sw[\"p3\"]\n",
    "    nidxs = ~np.isnan(dd)\n",
    "    tts.append(sw.times.secs[nidxs])\n",
    "    dds.append(dd[nidxs])\n",
    "    tms.append(tm)\n",
    "    tds.append(td.secs)\n",
    "    tss.append(ts.secs)\n",
    "    triggers.append(info[\"trigger\"])\n",
    "#for tt, dd in zip(tts, dds):\n",
    "#    ax.plot(tt, dd)\n",
    "#ax.set_yscale(\"log\")\n",
    "#ax.set_xlim(-50.0, 500.0)"
   ]
  },
  {
   "cell_type": "code",
   "execution_count": 22,
   "metadata": {},
   "outputs": [],
   "source": [
    "ttypes = [\"acis\", \"hrc\", \"manual\"]\n",
    "styles = [\"-\", \"--\", \":\"]"
   ]
  },
  {
   "cell_type": "code",
   "execution_count": 23,
   "metadata": {},
   "outputs": [
    {
     "data": {
      "text/plain": [
       "<matplotlib.legend.Legend at 0x154aab010>"
      ]
     },
     "execution_count": 23,
     "metadata": {},
     "output_type": "execute_result"
    }
   ],
   "source": [
    "fig, (ax1, ax2) = plt.subplots(ncols=2, figsize=(20,10))\n",
    "for i, tt in enumerate(tts):\n",
    "    dd = dds[i]\n",
    "    td = tds[i]\n",
    "    ts = tss[i]\n",
    "    tm = tms[i]\n",
    "    trigger = triggers[i]\n",
    "    ls = styles[ttypes.index(trigger)]\n",
    "    sidxs = tt >= ts\n",
    "    ax1.plot((tt-ts)[sidxs]/3600.0, cumtrapz(dd[sidxs], (tt-ts)[sidxs], initial=0.0), \n",
    "             lw=2, color=f\"C{i}\", ls=ls)\n",
    "    if ts-tm > 0.0:\n",
    "        midxs = tt >= tm\n",
    "        ax2.plot((tt-tm)[midxs]/3600.0, cumtrapz(dd[midxs], (tt-tm)[midxs], initial=0.0), \n",
    "                lw=2, color=f\"C{i}\", ls=ls)\n",
    "        ax2.axvline((ts-tm)/3600.0, ls=\"--\", lw=2, color=f\"C{i}\")\n",
    "ax1.plot([0], [0], color=\"k\", label=\"ACIS\", ls=\"-\")\n",
    "ax1.plot([0], [0], color=\"k\", label=\"HRC\", ls=\"--\")\n",
    "ax1.plot([0], [0], color=\"k\", label=\"Manual\")\n",
    "for ax in [ax1, ax2]:\n",
    "    ax.set_xlabel(\"Time (hours)\")\n",
    "    ax.set_yscale(\"log\")\n",
    "ax1.legend()"
   ]
  },
  {
   "cell_type": "code",
   "execution_count": 24,
   "metadata": {},
   "outputs": [],
   "source": [
    "fig.savefig(\"flu.png\")"
   ]
  },
  {
   "cell_type": "code",
   "execution_count": null,
   "metadata": {},
   "outputs": [],
   "source": []
  }
 ],
 "metadata": {
  "kernelspec": {
   "display_name": "base",
   "language": "python",
   "name": "python3"
  },
  "language_info": {
   "codemirror_mode": {
    "name": "ipython",
    "version": 3
   },
   "file_extension": ".py",
   "mimetype": "text/x-python",
   "name": "python",
   "nbconvert_exporter": "python",
   "pygments_lexer": "ipython3",
   "version": "3.10.8"
  },
  "orig_nbformat": 4,
  "vscode": {
   "interpreter": {
    "hash": "80c137c477634a740c3a8564b7328fd99c7e488f835e8cc0655f2170d8d30992"
   }
  }
 },
 "nbformat": 4,
 "nbformat_minor": 2
}
