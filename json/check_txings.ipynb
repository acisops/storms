{
 "cells": [
  {
   "cell_type": "code",
   "execution_count": 1,
   "metadata": {},
   "outputs": [],
   "source": [
    "from storms import SolarWind\n",
    "import matplotlib.pyplot as plt\n",
    "from cxotime import CxoTime\n",
    "import acispy\n",
    "import astropy.units as u"
   ]
  },
  {
   "cell_type": "code",
   "execution_count": 2,
   "metadata": {},
   "outputs": [],
   "source": [
    "tstart = CxoTime(\"2023:112:15:16:28.308\")\n",
    "tstop = CxoTime(\"2023:114:20:34:13.657\")\n",
    "tshut = CxoTime(\"2023:113:22:34:00.000\")"
   ]
  },
  {
   "cell_type": "code",
   "execution_count": 3,
   "metadata": {},
   "outputs": [],
   "source": [
    "sw = SolarWind(tstart, tstop, txings_files=[\"acis124a.txt\"], \n",
    "               browse=True)"
   ]
  },
  {
   "cell_type": "code",
   "execution_count": 12,
   "metadata": {},
   "outputs": [],
   "source": [
    "plt.rc('font', size=18)\n",
    "fig, xlim = sw.plot_all()\n",
    "for ax in fig.axes:\n",
    "    ax.axvline(tshut.plot_date, color=\"C2\", ls=\"-\", lw=2)\n",
    "    ax.set_xlim(CxoTime(\"2023:113:08:00:00\").plot_date, (tshut+4.0*u.hr).plot_date)\n",
    "fig.axes[2].set_ylim(None, 300)\n",
    "fig.savefig(\"test2.png\")"
   ]
  },
  {
   "cell_type": "code",
   "execution_count": null,
   "metadata": {},
   "outputs": [],
   "source": []
  }
 ],
 "metadata": {
  "kernelspec": {
   "display_name": "ska",
   "language": "python",
   "name": "python3"
  },
  "language_info": {
   "codemirror_mode": {
    "name": "ipython",
    "version": 3
   },
   "file_extension": ".py",
   "mimetype": "text/x-python",
   "name": "python",
   "nbconvert_exporter": "python",
   "pygments_lexer": "ipython3",
   "version": "3.10.8"
  },
  "orig_nbformat": 4
 },
 "nbformat": 4,
 "nbformat_minor": 2
}
