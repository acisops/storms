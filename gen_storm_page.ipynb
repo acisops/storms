{
 "cells": [
  {
   "cell_type": "code",
   "execution_count": 1,
   "metadata": {},
   "outputs": [],
   "source": [
    "import storms\n",
    "from cxotime import CxoTime, TimeDelta\n",
    "import astropy.units as u\n",
    "import numpy as np\n",
    "import jinja2\n",
    "import re\n",
    "from pathlib import Path\n",
    "from docutils.core import publish_file"
   ]
  },
  {
   "cell_type": "code",
   "execution_count": 2,
   "metadata": {},
   "outputs": [],
   "source": [
    "#shutdown = \"2022-03-28T12:40:00\"\n",
    "#startup = \"2022-04-04T05:59:00\"\n",
    "shutdown = \"2017-09-07T02:31:00\"\n",
    "startup = \"2017-09-09T06:04:00\""
   ]
  },
  {
   "cell_type": "code",
   "execution_count": 3,
   "metadata": {},
   "outputs": [],
   "source": [
    "dt = TimeDelta(2.0*u.d)"
   ]
  },
  {
   "cell_type": "code",
   "execution_count": 4,
   "metadata": {},
   "outputs": [],
   "source": [
    "shutdown = CxoTime(shutdown)\n",
    "startup = CxoTime(startup)"
   ]
  },
  {
   "cell_type": "code",
   "execution_count": 5,
   "metadata": {},
   "outputs": [],
   "source": [
    "storm_date = shutdown.yday[:8]"
   ]
  },
  {
   "cell_type": "code",
   "execution_count": 6,
   "metadata": {},
   "outputs": [],
   "source": [
    "storm_dir = Path(f\"storm_{storm_date.replace(':','_')}\")\n",
    "if not storm_dir.exists():\n",
    "    storm_dir.mkdir()"
   ]
  },
  {
   "cell_type": "code",
   "execution_count": 7,
   "metadata": {},
   "outputs": [],
   "source": [
    "sw = storms.SolarWind(shutdown-dt, startup+dt)"
   ]
  },
  {
   "cell_type": "code",
   "execution_count": 8,
   "metadata": {},
   "outputs": [],
   "source": [
    "dpe = sw.plot_electrons()\n",
    "dpe.add_vline(shutdown, color='k')\n",
    "dpe.add_vline(startup, color='k')\n",
    "dpe.add_text(shutdown+TimeDelta(0.1*u.day), 1.0, \"SHUTDOWN\", rotation=\"vertical\")\n",
    "dpe.add_text(startup+TimeDelta(0.1*u.day), 1.0, \"STARTUP\", rotation=\"vertical\")\n",
    "dpe.savefig(storm_dir / \"electrons_vs_time.png\")"
   ]
  },
  {
   "cell_type": "code",
   "execution_count": 9,
   "metadata": {},
   "outputs": [],
   "source": [
    "dpp = sw.plot_protons()\n",
    "dpp.add_vline(shutdown, color='k')\n",
    "dpp.add_vline(startup, color='k')\n",
    "dpp.add_text(shutdown+TimeDelta(0.1*u.day), 1.0, \"SHUTDOWN\", rotation=\"vertical\")\n",
    "dpp.add_text(startup+TimeDelta(0.1*u.day), 1.0, \"STARTUP\", rotation=\"vertical\")\n",
    "dpp.savefig(storm_dir / \"protons_vs_time.png\")"
   ]
  },
  {
   "cell_type": "code",
   "execution_count": 10,
   "metadata": {},
   "outputs": [],
   "source": [
    "gpp = sw.plot_hrc()\n",
    "gpp.add_vline(shutdown, color='k')\n",
    "gpp.add_vline(startup, color='k')\n",
    "gpp.add_text(shutdown+TimeDelta(0.1*u.day), 1.0, \"SHUTDOWN\", rotation=\"vertical\")\n",
    "gpp.add_text(startup+TimeDelta(0.1*u.day), 1.0, \"STARTUP\", rotation=\"vertical\")\n",
    "gpp.savefig(storm_dir / \"hrc_vs_time.png\")"
   ]
  },
  {
   "cell_type": "code",
   "execution_count": 11,
   "metadata": {},
   "outputs": [],
   "source": [
    "times = [(shutdown-(2-i)*TimeDelta(12*u.hr)).secs for i in range(4)]\n",
    "times.append(CxoTime(\"2017:249:08:00:00\").secs)\n",
    "times.append(CxoTime(\"2017:249:23:00:00\").secs)\n",
    "times.sort()\n",
    "fig = sw.plot_proton_spectra(times)\n",
    "fig.axes[1].axvline(shutdown.plot_date, color='k')\n",
    "fig.axes[1].axvline(startup.plot_date, color='k')\n",
    "fig.axes[1].text((shutdown+TimeDelta(0.1*u.day)).plot_date, 15.0, \"SHUTDOWN\", \n",
    "                 rotation=\"vertical\", fontsize=18)\n",
    "fig.axes[1].text((startup+TimeDelta(0.1*u.day)).plot_date, 15.0, \"STARTUP\", \n",
    "                 rotation=\"vertical\", fontsize=18)\n",
    "fig.axes[1].set_ylim(10.0, None)\n",
    "fig.savefig(storm_dir / \"proton_spectra.png\")"
   ]
  },
  {
   "cell_type": "code",
   "execution_count": 12,
   "metadata": {},
   "outputs": [],
   "source": [
    "fig = sw.scatter_plots()\n",
    "idx = np.searchsorted(sw.times, shutdown.secs)\n",
    "row = sw.table[idx]\n",
    "fig.axes[0].plot(row[\"p3\"], row[\"hrc_shield\"], 'x', mew=3, ms=20, color='C3', label=\"Shutdown\")\n",
    "fig.axes[0].legend(fontsize=18)\n",
    "fig.axes[1].plot(row[\"p3\"], row[\"de1\"], 'x', mew=3, ms=20, color='C3')\n",
    "fig.savefig(storm_dir / \"scatter_plots.png\")"
   ]
  },
  {
   "cell_type": "code",
   "execution_count": 13,
   "metadata": {},
   "outputs": [],
   "source": [
    "storm_template_file = 'storm_template.rst'\n",
    "\n",
    "storm_template = open(Path(\"/Users/jzuhone/Source/storms/templates\") / storm_template_file).read()\n",
    "storm_template = re.sub(r' %}\\n', ' %}', storm_template)\n",
    "\n",
    "context = {\"shutdown\": \"YES\",\n",
    "           \"storm_date\": storm_date,\n",
    "           \"load\": \"SEP0417A\",\n",
    "           \"trigger\": \"HRC Anti-Co Shield\",\n",
    "           \"shutdown_time\": shutdown.yday,\n",
    "           \"startup_time\": startup.yday}\n",
    "\n",
    "outfile = storm_dir / \"index.rst\"\n",
    "\n",
    "template = jinja2.Template(storm_template)\n",
    "\n",
    "with open(outfile, \"w\") as f:\n",
    "    f.write(template.render(**context))"
   ]
  },
  {
   "cell_type": "code",
   "execution_count": 14,
   "metadata": {},
   "outputs": [
    {
     "data": {
      "text/plain": [
       "'<?xml version=\"1.0\" encoding=\"utf-8\" ?>\\n<!DOCTYPE html PUBLIC \"-//W3C//DTD XHTML 1.0 Transitional//EN\" \"http://www.w3.org/TR/xhtml1/DTD/xhtml1-transitional.dtd\">\\n<html xmlns=\"http://www.w3.org/1999/xhtml\" xml:lang=\"en\" lang=\"en\">\\n<head>\\n<meta http-equiv=\"Content-Type\" content=\"text/html; charset=utf-8\" />\\n<meta name=\"generator\" content=\"Docutils 0.17.1: http://docutils.sourceforge.net/\" />\\n<title>Storm: 2017:250</title>\\n<style type=\"text/css\">\\n\\n/*\\n:Author: David Goodger (goodger@python.org)\\n:Id: $Id: html4css1.css 7952 2016-07-26 18:15:59Z milde $\\n:Copyright: This stylesheet has been placed in the public domain.\\n\\nDefault cascading style sheet for the HTML output of Docutils.\\n\\nSee http://docutils.sf.net/docs/howto/html-stylesheets.html for how to\\ncustomize this style sheet.\\n*/\\n\\n/* used to remove borders from tables and images */\\n.borderless, table.borderless td, table.borderless th {\\n  border: 0 }\\n\\ntable.borderless td, table.borderless th {\\n  /* Override padding for \"table.docutils td\" with \"! important\".\\n     The right padding separates the table cells. */\\n  padding: 0 0.5em 0 0 ! important }\\n\\n.first {\\n  /* Override more specific margin styles with \"! important\". */\\n  margin-top: 0 ! important }\\n\\n.last, .with-subtitle {\\n  margin-bottom: 0 ! important }\\n\\n.hidden {\\n  display: none }\\n\\n.subscript {\\n  vertical-align: sub;\\n  font-size: smaller }\\n\\n.superscript {\\n  vertical-align: super;\\n  font-size: smaller }\\n\\na.toc-backref {\\n  text-decoration: none ;\\n  color: black }\\n\\nblockquote.epigraph {\\n  margin: 2em 5em ; }\\n\\ndl.docutils dd {\\n  margin-bottom: 0.5em }\\n\\nobject[type=\"image/svg+xml\"], object[type=\"application/x-shockwave-flash\"] {\\n  overflow: hidden;\\n}\\n\\n/* Uncomment (and remove this text!) to get bold-faced definition list terms\\ndl.docutils dt {\\n  font-weight: bold }\\n*/\\n\\ndiv.abstract {\\n  margin: 2em 5em }\\n\\ndiv.abstract p.topic-title {\\n  font-weight: bold ;\\n  text-align: center }\\n\\ndiv.admonition, div.attention, div.caution, div.danger, div.error,\\ndiv.hint, div.important, div.note, div.tip, div.warning {\\n  margin: 2em ;\\n  border: medium outset ;\\n  padding: 1em }\\n\\ndiv.admonition p.admonition-title, div.hint p.admonition-title,\\ndiv.important p.admonition-title, div.note p.admonition-title,\\ndiv.tip p.admonition-title {\\n  font-weight: bold ;\\n  font-family: sans-serif }\\n\\ndiv.attention p.admonition-title, div.caution p.admonition-title,\\ndiv.danger p.admonition-title, div.error p.admonition-title,\\ndiv.warning p.admonition-title, .code .error {\\n  color: red ;\\n  font-weight: bold ;\\n  font-family: sans-serif }\\n\\n/* Uncomment (and remove this text!) to get reduced vertical space in\\n   compound paragraphs.\\ndiv.compound .compound-first, div.compound .compound-middle {\\n  margin-bottom: 0.5em }\\n\\ndiv.compound .compound-last, div.compound .compound-middle {\\n  margin-top: 0.5em }\\n*/\\n\\ndiv.dedication {\\n  margin: 2em 5em ;\\n  text-align: center ;\\n  font-style: italic }\\n\\ndiv.dedication p.topic-title {\\n  font-weight: bold ;\\n  font-style: normal }\\n\\ndiv.figure {\\n  margin-left: 2em ;\\n  margin-right: 2em }\\n\\ndiv.footer, div.header {\\n  clear: both;\\n  font-size: smaller }\\n\\ndiv.line-block {\\n  display: block ;\\n  margin-top: 1em ;\\n  margin-bottom: 1em }\\n\\ndiv.line-block div.line-block {\\n  margin-top: 0 ;\\n  margin-bottom: 0 ;\\n  margin-left: 1.5em }\\n\\ndiv.sidebar {\\n  margin: 0 0 0.5em 1em ;\\n  border: medium outset ;\\n  padding: 1em ;\\n  background-color: #ffffee ;\\n  width: 40% ;\\n  float: right ;\\n  clear: right }\\n\\ndiv.sidebar p.rubric {\\n  font-family: sans-serif ;\\n  font-size: medium }\\n\\ndiv.system-messages {\\n  margin: 5em }\\n\\ndiv.system-messages h1 {\\n  color: red }\\n\\ndiv.system-message {\\n  border: medium outset ;\\n  padding: 1em }\\n\\ndiv.system-message p.system-message-title {\\n  color: red ;\\n  font-weight: bold }\\n\\ndiv.topic {\\n  margin: 2em }\\n\\nh1.section-subtitle, h2.section-subtitle, h3.section-subtitle,\\nh4.section-subtitle, h5.section-subtitle, h6.section-subtitle {\\n  margin-top: 0.4em }\\n\\nh1.title {\\n  text-align: center }\\n\\nh2.subtitle {\\n  text-align: center }\\n\\nhr.docutils {\\n  width: 75% }\\n\\nimg.align-left, .figure.align-left, object.align-left, table.align-left {\\n  clear: left ;\\n  float: left ;\\n  margin-right: 1em }\\n\\nimg.align-right, .figure.align-right, object.align-right, table.align-right {\\n  clear: right ;\\n  float: right ;\\n  margin-left: 1em }\\n\\nimg.align-center, .figure.align-center, object.align-center {\\n  display: block;\\n  margin-left: auto;\\n  margin-right: auto;\\n}\\n\\ntable.align-center {\\n  margin-left: auto;\\n  margin-right: auto;\\n}\\n\\n.align-left {\\n  text-align: left }\\n\\n.align-center {\\n  clear: both ;\\n  text-align: center }\\n\\n.align-right {\\n  text-align: right }\\n\\n/* reset inner alignment in figures */\\ndiv.align-right {\\n  text-align: inherit }\\n\\n/* div.align-center * { */\\n/*   text-align: left } */\\n\\n.align-top    {\\n  vertical-align: top }\\n\\n.align-middle {\\n  vertical-align: middle }\\n\\n.align-bottom {\\n  vertical-align: bottom }\\n\\nol.simple, ul.simple {\\n  margin-bottom: 1em }\\n\\nol.arabic {\\n  list-style: decimal }\\n\\nol.loweralpha {\\n  list-style: lower-alpha }\\n\\nol.upperalpha {\\n  list-style: upper-alpha }\\n\\nol.lowerroman {\\n  list-style: lower-roman }\\n\\nol.upperroman {\\n  list-style: upper-roman }\\n\\np.attribution {\\n  text-align: right ;\\n  margin-left: 50% }\\n\\np.caption {\\n  font-style: italic }\\n\\np.credits {\\n  font-style: italic ;\\n  font-size: smaller }\\n\\np.label {\\n  white-space: nowrap }\\n\\np.rubric {\\n  font-weight: bold ;\\n  font-size: larger ;\\n  color: maroon ;\\n  text-align: center }\\n\\np.sidebar-title {\\n  font-family: sans-serif ;\\n  font-weight: bold ;\\n  font-size: larger }\\n\\np.sidebar-subtitle {\\n  font-family: sans-serif ;\\n  font-weight: bold }\\n\\np.topic-title {\\n  font-weight: bold }\\n\\npre.address {\\n  margin-bottom: 0 ;\\n  margin-top: 0 ;\\n  font: inherit }\\n\\npre.literal-block, pre.doctest-block, pre.math, pre.code {\\n  margin-left: 2em ;\\n  margin-right: 2em }\\n\\npre.code .ln { color: grey; } /* line numbers */\\npre.code, code { background-color: #eeeeee }\\npre.code .comment, code .comment { color: #5C6576 }\\npre.code .keyword, code .keyword { color: #3B0D06; font-weight: bold }\\npre.code .literal.string, code .literal.string { color: #0C5404 }\\npre.code .name.builtin, code .name.builtin { color: #352B84 }\\npre.code .deleted, code .deleted { background-color: #DEB0A1}\\npre.code .inserted, code .inserted { background-color: #A3D289}\\n\\nspan.classifier {\\n  font-family: sans-serif ;\\n  font-style: oblique }\\n\\nspan.classifier-delimiter {\\n  font-family: sans-serif ;\\n  font-weight: bold }\\n\\nspan.interpreted {\\n  font-family: sans-serif }\\n\\nspan.option {\\n  white-space: nowrap }\\n\\nspan.pre {\\n  white-space: pre }\\n\\nspan.problematic {\\n  color: red }\\n\\nspan.section-subtitle {\\n  /* font-size relative to parent (h1..h6 element) */\\n  font-size: 80% }\\n\\ntable.citation {\\n  border-left: solid 1px gray;\\n  margin-left: 1px }\\n\\ntable.docinfo {\\n  margin: 2em 4em }\\n\\ntable.docutils {\\n  margin-top: 0.5em ;\\n  margin-bottom: 0.5em }\\n\\ntable.footnote {\\n  border-left: solid 1px black;\\n  margin-left: 1px }\\n\\ntable.docutils td, table.docutils th,\\ntable.docinfo td, table.docinfo th {\\n  padding-left: 0.5em ;\\n  padding-right: 0.5em ;\\n  vertical-align: top }\\n\\ntable.docutils th.field-name, table.docinfo th.docinfo-name {\\n  font-weight: bold ;\\n  text-align: left ;\\n  white-space: nowrap ;\\n  padding-left: 0 }\\n\\n/* \"booktabs\" style (no vertical lines) */\\ntable.docutils.booktabs {\\n  border: 0px;\\n  border-top: 2px solid;\\n  border-bottom: 2px solid;\\n  border-collapse: collapse;\\n}\\ntable.docutils.booktabs * {\\n  border: 0px;\\n}\\ntable.docutils.booktabs th {\\n  border-bottom: thin solid;\\n  text-align: left;\\n}\\n\\nh1 tt.docutils, h2 tt.docutils, h3 tt.docutils,\\nh4 tt.docutils, h5 tt.docutils, h6 tt.docutils {\\n  font-size: 100% }\\n\\nul.auto-toc {\\n  list-style-type: none }\\n\\n</style>\\n</head>\\n<body>\\n<div class=\"document\" id=\"storm-2017-250\">\\n<h1 class=\"title\">Storm: 2017:250</h1>\\n\\n<div class=\"section\" id=\"basic-facts\">\\n<h1>Basic Facts</h1>\\n<ul class=\"simple\">\\n<li>Load on Spacecraft: SEP0417A</li>\\n<li>Shutdown: YES</li>\\n<li>Shutdown Trigger: HRC Anti-Co Shield</li>\\n<li>Shutdown Time: 2017:250:02:31:00.000</li>\\n<li>Startup Time: 2017:252:06:04:00.000</li>\\n</ul>\\n</div>\\n<div class=\"section\" id=\"plots\">\\n<h1>Plots</h1>\\n<div class=\"section\" id=\"ace-protons-vs-time\">\\n<h2>ACE Protons vs. Time</h2>\\n<img alt=\"protons_vs_time.png\" src=\"protons_vs_time.png\" />\\n</div>\\n<div class=\"section\" id=\"ace-electrons-vs-time\">\\n<h2>ACE Electrons vs. Time</h2>\\n<img alt=\"electrons_vs_time.png\" src=\"electrons_vs_time.png\" />\\n</div>\\n<div class=\"section\" id=\"hrc-shield-rate-and-proxy-vs-time\">\\n<h2>HRC Shield Rate and Proxy vs. Time</h2>\\n<img alt=\"hrc_vs_time.png\" src=\"hrc_vs_time.png\" />\\n</div>\\n<div class=\"section\" id=\"proton-spectra-at-selected-times\">\\n<h2>Proton Spectra at Selected Times</h2>\\n<img alt=\"proton_spectra.png\" src=\"proton_spectra.png\" />\\n</div>\\n<div class=\"section\" id=\"scatter-plots\">\\n<h2>Scatter Plots</h2>\\n<img alt=\"scatter_plots.png\" src=\"scatter_plots.png\" />\\n</div>\\n</div>\\n</div>\\n</body>\\n</html>\\n'"
      ]
     },
     "execution_count": 14,
     "metadata": {},
     "output_type": "execute_result"
    }
   ],
   "source": [
    "infile = str(outfile)\n",
    "outfile = str(storm_dir / 'index.html')\n",
    "publish_file(source_path=infile, destination_path=outfile,\n",
    "             writer_name=\"html\")"
   ]
  },
  {
   "cell_type": "code",
   "execution_count": null,
   "metadata": {},
   "outputs": [],
   "source": []
  }
 ],
 "metadata": {
  "interpreter": {
   "hash": "7c9655e3449f8ecac008f6db11591d34d1893776f87b3bf2976f0cab0ac6693a"
  },
  "kernelspec": {
   "display_name": "Python 3.8.12",
   "language": "python",
   "name": "python3"
  },
  "language_info": {
   "codemirror_mode": {
    "name": "ipython",
    "version": 3
   },
   "file_extension": ".py",
   "mimetype": "text/x-python",
   "name": "python",
   "nbconvert_exporter": "python",
   "pygments_lexer": "ipython3",
   "version": "3.8.12"
  },
  "orig_nbformat": 4
 },
 "nbformat": 4,
 "nbformat_minor": 2
}
